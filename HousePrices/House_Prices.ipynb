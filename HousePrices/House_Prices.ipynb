{
 "cells": [
  {
   "cell_type": "code",
   "execution_count": 1,
   "metadata": {},
   "outputs": [
    {
     "name": "stderr",
     "output_type": "stream",
     "text": [
      "/anaconda2/envs/py36/lib/python3.6/site-packages/lightgbm/__init__.py:46: UserWarning: Starting from version 2.2.1, the library file in distribution wheels for macOS is built by the Apple Clang (Xcode_8.3.3) compiler.\n",
      "This means that in case of installing LightGBM from PyPI via the ``pip install lightgbm`` command, you don't need to install the gcc compiler anymore.\n",
      "Instead of that, you need to install the OpenMP library, which is required for running LightGBM on the system with the Apple Clang compiler.\n",
      "You can install the OpenMP library by the following command: ``brew install libomp``.\n",
      "  \"You can install the OpenMP library by the following command: ``brew install libomp``.\", UserWarning)\n"
     ]
    }
   ],
   "source": [
    "%matplotlib inline\n",
    "from numpy import loadtxt\n",
    "from xgboost import XGBClassifier\n",
    "from sklearn.ensemble import RandomForestClassifier\n",
    "from sklearn.model_selection import train_test_split\n",
    "from sklearn.metrics import accuracy_score\n",
    "from sklearn import preprocessing\n",
    "from sklearn.metrics import confusion_matrix\n",
    "import pandas as pd\n",
    "import numpy as np\n",
    "from sklearn import ensemble\n",
    "from sklearn.ensemble import RandomForestRegressor\n",
    "import matplotlib.pylab as plt\n",
    "from sklearn.model_selection import train_test_split\n",
    "import xgboost as xgb\n",
    "import matplotlib.pyplot as pyplot\n",
    "from xgboost import plot_importance\n",
    "from sklearn.feature_selection import SelectFromModel\n",
    "from numpy import sort\n",
    "import seaborn as sns\n",
    "from sklearn.metrics import mean_squared_error\n",
    "import math\n",
    "from sklearn.pipeline import make_pipeline\n",
    "from sklearn.preprocessing import StandardScaler, RobustScaler, QuantileTransformer\n",
    "from sklearn.linear_model import Lasso, LassoCV\n",
    "from sklearn.neighbors import KNeighborsRegressor\n",
    "from sklearn.model_selection import KFold, cross_val_score, train_test_split\n",
    "from sklearn.linear_model import LogisticRegression\n",
    "from sklearn.linear_model import ElasticNetCV, LassoCV, RidgeCV,BayesianRidge\n",
    "from sklearn.ensemble import GradientBoostingRegressor\n",
    "from sklearn.svm import SVR\n",
    "from xgboost import XGBRegressor\n",
    "from sklearn.decomposition import PCA\n",
    "from sklearn.neural_network import MLPRegressor\n",
    "from sklearn.compose import TransformedTargetRegressor\n",
    "import lightgbm as lgb\n",
    "from sklearn.svm import NuSVR, SVR, LinearSVR\n",
    "from scipy import stats\n"
   ]
  },
  {
   "cell_type": "code",
   "execution_count": 11,
   "metadata": {},
   "outputs": [],
   "source": [
    "# rmsle\n",
    "def rmsle(y, y_pred):\n",
    "    return mean_squared_error(y, y_pred)"
   ]
  },
  {
   "cell_type": "code",
   "execution_count": 12,
   "metadata": {},
   "outputs": [],
   "source": [
    "def ohe(input_data, col, col_dict):\n",
    "    x = input_data[col].fillna('NA')\n",
    "    y = x.astype('category',categories=col_dict[col])\n",
    "    return pd.get_dummies(y,prefix=col)\n",
    "    "
   ]
  },
  {
   "cell_type": "code",
   "execution_count": 13,
   "metadata": {},
   "outputs": [],
   "source": [
    "def filter_col_by_coor(X_train,y_train):\n",
    "    y = np.abs(X_train.corrwith(y_train)).sort_values(ascending=False)\n",
    "    y = y[y>0.005]\n",
    "    X_train =  X_train[y.index]\n",
    "    \n",
    "    # Create correlation matrix\n",
    "    corr_matrix = X_train.corr().abs()\n",
    "\n",
    "    # Select upper triangle of correlation matrix\n",
    "    upper = corr_matrix.where(np.triu(np.ones(corr_matrix.shape), k=1).astype(np.bool))\n",
    "\n",
    "    # Find index of feature columns with correlation greater than 0.95\n",
    "    to_drop = [column for column in upper.columns if any(upper[column] > 0.99)]\n",
    "    \n",
    "    cols_retain = []\n",
    "    for col in list(X_train.columns.values):\n",
    "        if col not in to_drop:\n",
    "            cols_retain.append(col)\n",
    "    \n",
    "    return X_train[cols_retain]\n",
    "    \n",
    "    "
   ]
  },
  {
   "cell_type": "code",
   "execution_count": 14,
   "metadata": {},
   "outputs": [],
   "source": [
    "def get_features(input_data,ohe_cols,sel_cols, ro, col_dict,cols=None):\n",
    "    \n",
    "    input_data['porch'] = input_data['3SsnPorch'] + input_data['WoodDeckSF'] + input_data['OpenPorchSF'] + input_data['EnclosedPorch'] + input_data['ScreenPorch']\n",
    "    input_data['SF'] = input_data['1stFlrSF'] + input_data['2ndFlrSF'] + input_data['BsmtFinSF1'] + input_data['BsmtFinSF2'] + input_data['TotalBsmtSF']\n",
    "    input_data['LowQualFinSFPercent'] = 100 - (input_data['LowQualFinSF']*100)/input_data['SF']\n",
    "    input_data['baths'] = input_data['BsmtFullBath'] + input_data['BsmtHalfBath'] + input_data['FullBath'] + input_data['HalfBath']\n",
    "    \n",
    "    \n",
    "    \n",
    "    \n",
    "    features = input_data[sel_cols]\n",
    "    features['LotFrontage'] = input_data['LotFrontage'].fillna(input_data['LotArea']/140.0)\n",
    "    \n",
    "    \n",
    "    features['SF'] = np.power(features['SF'],(1/4))\n",
    "    features['LotFrontage'] = np.power(features['LotFrontage'],(1/4))\n",
    "    features['GarageArea'] = np.power(features['GarageArea'],(1/10))\n",
    "    features['LotArea'] = np.power(features['LotArea'],(1/4))\n",
    "    features['GrLivArea'] = np.power(features['GrLivArea'],(1/4))\n",
    "   \n",
    "    features['MasVnrArea'] = input_data['MasVnrArea'].fillna(0)\n",
    "\n",
    "    features=features.join(pd.DataFrame({'GarageYrBlt':input_data['GarageYrBlt']-input_data['GarageYrBlt'].min()}))\n",
    "    features['GarageYrBlt'] = features['GarageYrBlt'].fillna(-1)   \n",
    "    features=features.join(pd.DataFrame({'YrSold':input_data['YrSold']-input_data['YrSold'].min()}))\n",
    "    features=features.join(pd.DataFrame({'YearRemodAdd':input_data['YearRemodAdd']-input_data['YearRemodAdd'].min()}))\n",
    "    \n",
    "    \n",
    "    for col in ohe_cols:\n",
    "        features=features.join(ohe(input_data,col,col_dict))\n",
    "        \n",
    "        \n",
    "       \n",
    "    cc = ['Artery','Feedr','Norm','RRNn','RRAn','PosN','PosA','RRNe','RRAe']\n",
    "    for c in cc:\n",
    "        features['Condition_'+c]= (input_data['Condition1']==c) & (input_data['Condition2']==c)\n",
    "        features['Condition_'+c] = features['Condition_'+c].astype(int)\n",
    "    \n",
    "    cc = ['GLQ','ALQ','BLQ','Rec','LwQ','Unf','NA']\n",
    "    for c in cc:\n",
    "        features['BsmtFinType'+c] = (input_data['BsmtFinType1']==c) & (input_data['BsmtFinType2']==c)\n",
    "        features['BsmtFinType'+c] = features['BsmtFinType'+c].astype(int)\n",
    "    \n",
    "    cc = ['AsbShng','AsphShn','BrkComm','BrkFace','CBlock','CemntBd','HdBoard','ImStucc','MetalSd','Other','Plywood','PreCast','Stone','Stucco','VinylSd','WdShing']\n",
    "    for c in cc:\n",
    "        features['Exteriror'+c] = (input_data['Exterior1st']==c) & (input_data['Exterior2nd']==c)\n",
    "        features['Exteriror'+c] = features['Exteriror'+c].astype(int)\n",
    "    \n",
    "    cols_to_delete=['CentralAir_N']\n",
    "    for ctd in cols_to_delete:        \n",
    "        features = features.drop(ctd,axis=1)\n",
    "        \n",
    "    if cols:\n",
    "        features = features[cols]\n",
    "    else:\n",
    "        features = filter_col_by_coor(features,input_data[\"SalePrice\"])\n",
    "        \n",
    "    na = features.isna().sum()\n",
    "    na = na[na>0]\n",
    "    print(na)\n",
    "    \n",
    "    features = features.fillna(0)\n",
    "    \n",
    "    if ro:    \n",
    "        features['SalePrice'] = input_data['SalePrice']    \n",
    "        print('Before ',features.shape)\n",
    "        features = features[(np.abs(stats.zscore(features)) < 21).all(axis=1)]\n",
    "        print('After ',features.shape)\n",
    "    \n",
    "    \n",
    "    return features\n",
    "\n",
    "    "
   ]
  },
  {
   "cell_type": "code",
   "execution_count": 15,
   "metadata": {},
   "outputs": [],
   "source": [
    "def get_col_dict(input_data,cols):\n",
    "    col_dict = {}\n",
    "    for col in cols:\n",
    "        x = input_data[col].fillna('NA')\n",
    "        y = x.unique()\n",
    "        col_dict[col] = y\n",
    "    return col_dict\n",
    "        "
   ]
  },
  {
   "cell_type": "code",
   "execution_count": 16,
   "metadata": {},
   "outputs": [],
   "source": [
    "def model_test():\n",
    "    ohe_cols = list(set(['MasVnrType','MiscFeature','LandContour','LotShape','Alley','Street','GarageFinish','GarageCond','SaleType','SaleCondition','GarageType','Functional','Electrical','BsmtExposure','BsmtCond','BsmtQual','ExterQual','MasVnrType','RoofStyle','HouseStyle','BldgType','Fence','HeatingQC','CentralAir','KitchenQual','FireplaceQu','GarageQual','PavedDrive','MSSubClass','MSZoning','LotConfig','Neighborhood']))\n",
    "    scalar_cols = list(set(['GrLivArea','LotArea','GarageArea','LotFrontage','porch','TotRmsAbvGrd','BedroomAbvGr','baths','LowQualFinSFPercent','OverallQual','OverallCond','MasVnrArea','SF','Fireplaces','GarageCars']))\n",
    "   \n",
    "    input_data = pd.read_csv('train.csv')\n",
    "    input_data=input_data[input_data['GrLivArea']<4000]\n",
    "\n",
    "    col_dict = get_col_dict(input_data,ohe_cols)\n",
    "    \n",
    "    features = get_features(input_data,ohe_cols,scalar_cols,True, col_dict)\n",
    "        \n",
    "    features.to_csv('features.csv')\n",
    "    \n",
    "    target = np.log1p(features[\"SalePrice\"])    \n",
    "    \n",
    "    features = features.drop(columns=['SalePrice'])\n",
    "\n",
    "        \n",
    "    '''Train model '''\n",
    "    alphas_alt = [11.0,12.3, 12,14.5, 14.6, 14.7, 14.8, 14.9, 15, 15.1, 15.2, 15.3, 15.4, 15.5,15.6,15.7,15.8] \n",
    "    for i in range(100):\n",
    "        alphas_alt.append(i)\n",
    "    kfolds = KFold(n_splits=4, shuffle=True, random_state=66)\n",
    "    \n",
    "    \n",
    "    ridge = make_pipeline(TransformedTargetRegressor(regressor=RidgeCV(alphas=alphas_alt, cv=kfolds),transformer=QuantileTransformer(output_distribution='normal')))\n",
    "    ridge = make_pipeline(RobustScaler(),RidgeCV(alphas=alphas_alt, cv=kfolds))\n",
    "    \n",
    "    \n",
    "    ridge.fit(features,target)\n",
    "\n",
    "    print(rmsle(target,ridge.predict(features)))\n",
    "    plt.figure(figsize=(15,10))\n",
    "    plt.scatter(np.expm1(target), np.expm1(ridge.predict(features)))\n",
    "    \n",
    "    '''\n",
    "    scaler = RobustScaler()\n",
    "    scaler.fit(features)\n",
    "    features_scaled = scaler.transform(features)\n",
    "    \n",
    "    ridge = MLPRegressor(hidden_layer_sizes=5000)\n",
    "    ridge.fit(features_scaled,target)\n",
    "  \n",
    "    target_predicted = ridge.predict(features_scaled)\n",
    "    print(rmsle(np.expm1(target),np.expm1(target_predicted)))\n",
    "    '''\n",
    "    return (ridge,ohe_cols,scalar_cols,col_dict,list(features.columns.values))\n",
    "\n",
    "    "
   ]
  },
  {
   "cell_type": "code",
   "execution_count": 17,
   "metadata": {
    "scrolled": false
   },
   "outputs": [
    {
     "name": "stderr",
     "output_type": "stream",
     "text": [
      "/anaconda2/envs/py36/lib/python3.6/site-packages/ipykernel_launcher.py:12: SettingWithCopyWarning: \n",
      "A value is trying to be set on a copy of a slice from a DataFrame.\n",
      "Try using .loc[row_indexer,col_indexer] = value instead\n",
      "\n",
      "See the caveats in the documentation: http://pandas.pydata.org/pandas-docs/stable/indexing.html#indexing-view-versus-copy\n",
      "  if sys.path[0] == '':\n",
      "/anaconda2/envs/py36/lib/python3.6/site-packages/ipykernel_launcher.py:15: SettingWithCopyWarning: \n",
      "A value is trying to be set on a copy of a slice from a DataFrame.\n",
      "Try using .loc[row_indexer,col_indexer] = value instead\n",
      "\n",
      "See the caveats in the documentation: http://pandas.pydata.org/pandas-docs/stable/indexing.html#indexing-view-versus-copy\n",
      "  from ipykernel import kernelapp as app\n",
      "/anaconda2/envs/py36/lib/python3.6/site-packages/ipykernel_launcher.py:16: SettingWithCopyWarning: \n",
      "A value is trying to be set on a copy of a slice from a DataFrame.\n",
      "Try using .loc[row_indexer,col_indexer] = value instead\n",
      "\n",
      "See the caveats in the documentation: http://pandas.pydata.org/pandas-docs/stable/indexing.html#indexing-view-versus-copy\n",
      "  app.launch_new_instance()\n",
      "/anaconda2/envs/py36/lib/python3.6/site-packages/ipykernel_launcher.py:17: SettingWithCopyWarning: \n",
      "A value is trying to be set on a copy of a slice from a DataFrame.\n",
      "Try using .loc[row_indexer,col_indexer] = value instead\n",
      "\n",
      "See the caveats in the documentation: http://pandas.pydata.org/pandas-docs/stable/indexing.html#indexing-view-versus-copy\n",
      "/anaconda2/envs/py36/lib/python3.6/site-packages/ipykernel_launcher.py:18: SettingWithCopyWarning: \n",
      "A value is trying to be set on a copy of a slice from a DataFrame.\n",
      "Try using .loc[row_indexer,col_indexer] = value instead\n",
      "\n",
      "See the caveats in the documentation: http://pandas.pydata.org/pandas-docs/stable/indexing.html#indexing-view-versus-copy\n",
      "/anaconda2/envs/py36/lib/python3.6/site-packages/ipykernel_launcher.py:19: SettingWithCopyWarning: \n",
      "A value is trying to be set on a copy of a slice from a DataFrame.\n",
      "Try using .loc[row_indexer,col_indexer] = value instead\n",
      "\n",
      "See the caveats in the documentation: http://pandas.pydata.org/pandas-docs/stable/indexing.html#indexing-view-versus-copy\n",
      "/anaconda2/envs/py36/lib/python3.6/site-packages/ipykernel_launcher.py:21: SettingWithCopyWarning: \n",
      "A value is trying to be set on a copy of a slice from a DataFrame.\n",
      "Try using .loc[row_indexer,col_indexer] = value instead\n",
      "\n",
      "See the caveats in the documentation: http://pandas.pydata.org/pandas-docs/stable/indexing.html#indexing-view-versus-copy\n",
      "/anaconda2/envs/py36/lib/python3.6/site-packages/ipykernel_launcher.py:3: FutureWarning: specifying 'categories' or 'ordered' in .astype() is deprecated; pass a CategoricalDtype instead\n",
      "  This is separate from the ipykernel package so we can avoid doing imports until\n"
     ]
    },
    {
     "name": "stdout",
     "output_type": "stream",
     "text": [
      "Series([], dtype: int64)\n",
      "Before  (1456, 211)\n",
      "After  (1424, 211)\n",
      "0.009455838249448595\n"
     ]
    },
    {
     "data": {
      "image/png": "[encoded data removed]",
      "text/plain": [
       "<Figure size 1080x720 with 1 Axes>"
      ]
     },
     "metadata": {},
     "output_type": "display_data"
    }
   ],
   "source": [
    "clf,ohe_cols,scalar_cols,col_dict,cols = model_test()"
   ]
  },
  {
   "cell_type": "code",
   "execution_count": 18,
   "metadata": {},
   "outputs": [],
   "source": [
    "def predict_result(clf,ohe_cols,scalar_cols, col_dict):\n",
    "    test_data = pd.read_csv('test.csv')\n",
    "    test_features = get_features(test_data,ohe_cols,scalar_cols, False,col_dict,cols)\n",
    "    print('Test features shape ',test_features.shape)\n",
    "    p_values = np.floor(np.expm1(clf.predict(test_features)))\n",
    "    predicted_values = test_data[['Id']]\n",
    "    predicted_values=predicted_values.join(pd.DataFrame({'SalePrice':p_values}))\n",
    "    predicted_values.to_csv('Predicted_Values.csv', index=False)"
   ]
  },
  {
   "cell_type": "code",
   "execution_count": 19,
   "metadata": {},
   "outputs": [
    {
     "name": "stderr",
     "output_type": "stream",
     "text": [
      "/anaconda2/envs/py36/lib/python3.6/site-packages/ipykernel_launcher.py:12: SettingWithCopyWarning: \n",
      "A value is trying to be set on a copy of a slice from a DataFrame.\n",
      "Try using .loc[row_indexer,col_indexer] = value instead\n",
      "\n",
      "See the caveats in the documentation: http://pandas.pydata.org/pandas-docs/stable/indexing.html#indexing-view-versus-copy\n",
      "  if sys.path[0] == '':\n",
      "/anaconda2/envs/py36/lib/python3.6/site-packages/ipykernel_launcher.py:15: SettingWithCopyWarning: \n",
      "A value is trying to be set on a copy of a slice from a DataFrame.\n",
      "Try using .loc[row_indexer,col_indexer] = value instead\n",
      "\n",
      "See the caveats in the documentation: http://pandas.pydata.org/pandas-docs/stable/indexing.html#indexing-view-versus-copy\n",
      "  from ipykernel import kernelapp as app\n",
      "/anaconda2/envs/py36/lib/python3.6/site-packages/ipykernel_launcher.py:16: SettingWithCopyWarning: \n",
      "A value is trying to be set on a copy of a slice from a DataFrame.\n",
      "Try using .loc[row_indexer,col_indexer] = value instead\n",
      "\n",
      "See the caveats in the documentation: http://pandas.pydata.org/pandas-docs/stable/indexing.html#indexing-view-versus-copy\n",
      "  app.launch_new_instance()\n",
      "/anaconda2/envs/py36/lib/python3.6/site-packages/ipykernel_launcher.py:17: SettingWithCopyWarning: \n",
      "A value is trying to be set on a copy of a slice from a DataFrame.\n",
      "Try using .loc[row_indexer,col_indexer] = value instead\n",
      "\n",
      "See the caveats in the documentation: http://pandas.pydata.org/pandas-docs/stable/indexing.html#indexing-view-versus-copy\n",
      "/anaconda2/envs/py36/lib/python3.6/site-packages/ipykernel_launcher.py:18: SettingWithCopyWarning: \n",
      "A value is trying to be set on a copy of a slice from a DataFrame.\n",
      "Try using .loc[row_indexer,col_indexer] = value instead\n",
      "\n",
      "See the caveats in the documentation: http://pandas.pydata.org/pandas-docs/stable/indexing.html#indexing-view-versus-copy\n",
      "/anaconda2/envs/py36/lib/python3.6/site-packages/ipykernel_launcher.py:19: SettingWithCopyWarning: \n",
      "A value is trying to be set on a copy of a slice from a DataFrame.\n",
      "Try using .loc[row_indexer,col_indexer] = value instead\n",
      "\n",
      "See the caveats in the documentation: http://pandas.pydata.org/pandas-docs/stable/indexing.html#indexing-view-versus-copy\n"
     ]
    },
    {
     "name": "stdout",
     "output_type": "stream",
     "text": [
      "SF                     1\n",
      "GarageCars             1\n",
      "baths                  2\n",
      "GarageArea             1\n",
      "LowQualFinSFPercent    1\n",
      "dtype: int64\n",
      "Test features shape  (1459, 210)\n"
     ]
    },
    {
     "name": "stderr",
     "output_type": "stream",
     "text": [
      "/anaconda2/envs/py36/lib/python3.6/site-packages/ipykernel_launcher.py:21: SettingWithCopyWarning: \n",
      "A value is trying to be set on a copy of a slice from a DataFrame.\n",
      "Try using .loc[row_indexer,col_indexer] = value instead\n",
      "\n",
      "See the caveats in the documentation: http://pandas.pydata.org/pandas-docs/stable/indexing.html#indexing-view-versus-copy\n",
      "/anaconda2/envs/py36/lib/python3.6/site-packages/ipykernel_launcher.py:3: FutureWarning: specifying 'categories' or 'ordered' in .astype() is deprecated; pass a CategoricalDtype instead\n",
      "  This is separate from the ipykernel package so we can avoid doing imports until\n"
     ]
    }
   ],
   "source": [
    "predict_result(clf,ohe_cols,scalar_cols, col_dict)"
   ]
  },
  {
   "cell_type": "code",
   "execution_count": null,
   "metadata": {},
   "outputs": [],
   "source": [
    "input_data = pd.read_csv('train.csv')\n",
    "\n",
    "'''input_data['SaleCondition'].fillna('NA').value_counts().plot(kind='bar')'''\n",
    "input_data['SF'] = input_data['1stFlrSF'] + input_data['2ndFlrSF'] + input_data['BsmtFinSF1'] + input_data['BsmtFinSF2'] + input_data['TotalBsmtSF']\n",
    "input_data['SF'] += input_data['LotFrontage'] + input_data['GarageArea']+input_data['LotArea'] + input_data['GrLivArea']\n",
    "x = np.power(input_data['SF'],(1/10))\n",
    "s = input_data['CentralAir'].value_counts()\n",
    "print(s)\n",
    "x.hist(bins=100)\n",
    "\n",
    "\n",
    "\n",
    "\n"
   ]
  },
  {
   "cell_type": "code",
   "execution_count": null,
   "metadata": {},
   "outputs": [],
   "source": [
    "ft = pd.read_csv('features.csv')\n",
    "\n",
    "for col in ft.columns:\n",
    "    s = ft[col].value_counts()\n",
    "    print(s)\n"
   ]
  },
  {
   "cell_type": "code",
   "execution_count": null,
   "metadata": {},
   "outputs": [],
   "source": []
  }
 ],
 "metadata": {
  "kernelspec": {
   "display_name": "Python 3",
   "language": "python",
   "name": "python3"
  },
  "language_info": {
   "codemirror_mode": {
    "name": "ipython",
    "version": 3
   },
   "file_extension": ".py",
   "mimetype": "text/x-python",
   "name": "python",
   "nbconvert_exporter": "python",
   "pygments_lexer": "ipython3",
   "version": "3.6.8"
  }
 },
 "nbformat": 4,
 "nbformat_minor": 2
}
